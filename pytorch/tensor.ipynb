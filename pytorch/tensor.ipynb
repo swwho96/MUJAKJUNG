{
 "cells": [
  {
   "cell_type": "code",
   "execution_count": 1,
   "id": "d34e238f-bb3c-4065-bba2-f9fdf393e89e",
   "metadata": {},
   "outputs": [],
   "source": [
    "import torch\n",
    "import numpy as np"
   ]
  },
  {
   "cell_type": "markdown",
   "id": "44d5bb9a-b072-44ad-a9f8-952cc4a3b5f5",
   "metadata": {},
   "source": [
    "### tensor 정의하기"
   ]
  },
  {
   "cell_type": "code",
   "execution_count": 2,
   "id": "86dd15eb-53e6-41f2-9282-3d3769073241",
   "metadata": {},
   "outputs": [
    {
     "name": "stdout",
     "output_type": "stream",
     "text": [
      "tensor([[1, 2],\n",
      "        [3, 4]])\n"
     ]
    }
   ],
   "source": [
    "data = [[1,2],[3,4]]\n",
    "x_data = torch.tensor(data)\n",
    "print(x_data)"
   ]
  },
  {
   "cell_type": "code",
   "execution_count": 6,
   "id": "cccccf8a-a6b7-4acc-967d-58092db0d823",
   "metadata": {},
   "outputs": [
    {
     "name": "stdout",
     "output_type": "stream",
     "text": [
      "[[1 2]\n",
      " [3 4]]\n"
     ]
    }
   ],
   "source": [
    "np_array = np.array(data)\n",
    "print(np_array)"
   ]
  },
  {
   "cell_type": "code",
   "execution_count": 8,
   "id": "e9968975-b10f-4bd1-9882-771d7ca6019d",
   "metadata": {},
   "outputs": [
    {
     "name": "stdout",
     "output_type": "stream",
     "text": [
      "tensor([[1, 1],\n",
      "        [1, 1]])\n"
     ]
    }
   ],
   "source": [
    "x_ones = torch.ones_like(x_data)\n",
    "print(x_ones)"
   ]
  },
  {
   "cell_type": "code",
   "execution_count": 9,
   "id": "80a57486-4bcd-40c3-8a6b-a4877b641724",
   "metadata": {},
   "outputs": [
    {
     "name": "stdout",
     "output_type": "stream",
     "text": [
      "tensor([[0.8158, 0.4369, 0.9672, 0.8723],\n",
      "        [0.2881, 0.7760, 0.5475, 0.7304],\n",
      "        [0.7666, 0.1864, 0.0842, 0.6754]])\n"
     ]
    }
   ],
   "source": [
    "tensor = torch.rand(3,4)\n",
    "print(tensor)"
   ]
  },
  {
   "cell_type": "markdown",
   "id": "77e2282c-47b9-4013-a5a6-dbfc0d3f14d3",
   "metadata": {
    "tags": []
   },
   "source": [
    "### tensor cuda에 저장하기"
   ]
  },
  {
   "cell_type": "code",
   "execution_count": 10,
   "id": "4aab74b7-259b-47ea-ba65-3cda4d332011",
   "metadata": {},
   "outputs": [],
   "source": [
    "if torch.cuda.is_available():\n",
    "    tensor = tensor.to('cuda')\n",
    "    print('Success!')"
   ]
  },
  {
   "cell_type": "markdown",
   "id": "cdccbd63-29c8-464b-8176-940b97f9d0a2",
   "metadata": {},
   "source": [
    "### tensor 수정하기"
   ]
  },
  {
   "cell_type": "code",
   "execution_count": 13,
   "id": "1702dfc6-939d-4ffd-b711-068e0942b377",
   "metadata": {},
   "outputs": [
    {
     "name": "stdout",
     "output_type": "stream",
     "text": [
      "tensor([[1., 1., 1., 1.],\n",
      "        [1., 1., 1., 1.],\n",
      "        [1., 1., 1., 1.],\n",
      "        [1., 1., 1., 1.]])\n",
      "tensor([[1., 0., 1., 1.],\n",
      "        [1., 0., 1., 1.],\n",
      "        [1., 0., 1., 1.],\n",
      "        [1., 0., 1., 1.]])\n"
     ]
    }
   ],
   "source": [
    "tensor = torch.ones(4,4)\n",
    "print(tensor)\n",
    "tensor[:, 1] = 0\n",
    "print(tensor)"
   ]
  },
  {
   "cell_type": "markdown",
   "id": "236a4ee3-b79d-4a83-9272-12780b3812a4",
   "metadata": {},
   "source": [
    "### tensor 합치기"
   ]
  },
  {
   "cell_type": "code",
   "execution_count": 15,
   "id": "9a93a91d-a093-4920-b0b7-230fa4abcef5",
   "metadata": {},
   "outputs": [
    {
     "name": "stdout",
     "output_type": "stream",
     "text": [
      "tensor([[1., 0., 1., 1., 1., 0., 1., 1.],\n",
      "        [1., 0., 1., 1., 1., 0., 1., 1.],\n",
      "        [1., 0., 1., 1., 1., 0., 1., 1.],\n",
      "        [1., 0., 1., 1., 1., 0., 1., 1.]])\n"
     ]
    }
   ],
   "source": [
    "t1 = torch.cat([tensor, tensor], dim=1)\n",
    "print(t1)"
   ]
  },
  {
   "cell_type": "markdown",
   "id": "6bc3edec-8760-4f1d-a3b2-42845307871a",
   "metadata": {},
   "source": [
    "### tensor 연산"
   ]
  },
  {
   "cell_type": "code",
   "execution_count": 18,
   "id": "86c269c6-283d-4f02-ace4-71c53d7560d6",
   "metadata": {},
   "outputs": [
    {
     "name": "stdout",
     "output_type": "stream",
     "text": [
      "tensor([1., 1., 1., 1., 1.])\n",
      "tensor([2., 2., 2., 2., 2.])\n"
     ]
    }
   ],
   "source": [
    "t = torch.ones(5)\n",
    "print(t)\n",
    "print(t.add(1))"
   ]
  }
 ],
 "metadata": {
  "kernelspec": {
   "display_name": "Python 3 (ipykernel)",
   "language": "python",
   "name": "python3"
  },
  "language_info": {
   "codemirror_mode": {
    "name": "ipython",
    "version": 3
   },
   "file_extension": ".py",
   "mimetype": "text/x-python",
   "name": "python",
   "nbconvert_exporter": "python",
   "pygments_lexer": "ipython3",
   "version": "3.9.12"
  }
 },
 "nbformat": 4,
 "nbformat_minor": 5
}
