{
 "cells": [
  {
   "cell_type": "code",
   "execution_count": 1,
   "id": "ff25db98-fb05-4735-9632-007a93768068",
   "metadata": {},
   "outputs": [],
   "source": [
    "import os\n",
    "os.environ['KMP_DUPLICATE_LIB_OK']='True'"
   ]
  },
  {
   "cell_type": "code",
   "execution_count": 2,
   "id": "12ded5ce-54aa-42f9-ab96-e55a68457a3a",
   "metadata": {},
   "outputs": [],
   "source": [
    "import torch\n",
    "from torch.utils.data import Dataset\n",
    "from torchvision import datasets\n",
    "from torchvision.transforms import ToTensor\n",
    "import matplotlib.pyplot as plt"
   ]
  },
  {
   "cell_type": "code",
   "execution_count": 3,
   "id": "70167b89-d771-4826-860e-5e03ef7e6ccd",
   "metadata": {},
   "outputs": [],
   "source": [
    "training_data = datasets.FashionMNIST(\n",
    "    root='data',\n",
    "    train = True,\n",
    "    download = True,\n",
    "    transform = ToTensor()\n",
    ")\n",
    "\n",
    "test_data = datasets.FashionMNIST(\n",
    "    root = 'data',\n",
    "    train = False,\n",
    "    download = True,\n",
    "    transform = ToTensor()\n",
    ")"
   ]
  },
  {
   "cell_type": "code",
   "execution_count": 4,
   "id": "6d5fb788-97a8-41a1-b489-3d8fa10ea876",
   "metadata": {},
   "outputs": [
    {
     "data": {
      "image/png": "[encoded data removed]",
      "text/plain": [
       "<Figure size 576x576 with 9 Axes>"
      ]
     },
     "metadata": {
      "needs_background": "light"
     },
     "output_type": "display_data"
    }
   ],
   "source": [
    "labels_map = {\n",
    "    0: \"T-Shirt\",\n",
    "    1: \"Trouser\",\n",
    "    2: \"Pullover\",\n",
    "    3: \"Dress\",\n",
    "    4: \"Coat\",\n",
    "    5: \"Sandal\",\n",
    "    6: \"Shirt\",\n",
    "    7: \"Sneaker\",\n",
    "    8: \"Bag\",\n",
    "    9: \"Ankle Boot\",\n",
    "}\n",
    "\n",
    "figure = plt.figure(figsize=(8, 8))\n",
    "cols, rows = 3, 3\n",
    "for i in range(1, cols*rows + 1):\n",
    "    idx = torch.randint(len(training_data), size=(1,)).item()\n",
    "    img, label = training_data[idx]\n",
    "    figure.add_subplot(rows, cols, i)\n",
    "    plt.title(labels_map[label])\n",
    "    plt.axis('off')\n",
    "    plt.imshow(img.squeeze(), cmap='gray')\n",
    "plt.show()"
   ]
  },
  {
   "cell_type": "code",
   "execution_count": 5,
   "id": "49307541-f74f-4ef1-a379-7363f9af368c",
   "metadata": {},
   "outputs": [],
   "source": [
    "import pandas as pd\n",
    "from torchvision.io import read_image"
   ]
  },
  {
   "cell_type": "code",
   "execution_count": 6,
   "id": "1d04f71a-b420-4867-99da-bc5b9c5183d0",
   "metadata": {},
   "outputs": [],
   "source": [
    "class CustomImageDataset(Dataset):\n",
    "    def __init__(self, annotations_file, img_dir, transform=None, target_transform=None):\n",
    "        self.img_labels = pd.read_csv(annotations_file, names=['file_name', 'label'])\n",
    "        self.img_dir = img_dir\n",
    "        self.transform = transform\n",
    "        self.target_transform = target_transform\n",
    "        \n",
    "    def __len__(self):\n",
    "        return len(self.img_labels)\n",
    "    \n",
    "    def __getitem__(self, idx):\n",
    "        img_path = os.path.join(self.img_dir, self.img_labels.iloc[idx, 0])\n",
    "        image = read_image(img_path)\n",
    "        label = self.img_labels.iloc[idx, 1]\n",
    "        if self.transform:\n",
    "            image = self.transform(image)\n",
    "        if self.target_transform(image):\n",
    "            label = self.target_transform(label)\n",
    "        return image, label"
   ]
  },
  {
   "cell_type": "code",
   "execution_count": 7,
   "id": "95a752d7-9d22-4bc7-a454-09d9857342ad",
   "metadata": {},
   "outputs": [],
   "source": [
    "from torch.utils.data import DataLoader\n",
    "\n",
    "train_dataloader = DataLoader(training_data, batch_size=64, shuffle=True)\n",
    "test_dataloader = DataLoader(test_data, batch_size=64, shuffle=True)"
   ]
  },
  {
   "cell_type": "code",
   "execution_count": 8,
   "id": "0e95dee3-357c-44ce-a361-207fbbffcc03",
   "metadata": {},
   "outputs": [],
   "source": [
    "from torchvision.transforms import Lambda"
   ]
  },
  {
   "cell_type": "code",
   "execution_count": 9,
   "id": "70c8d03d-4e96-4f9b-9f96-680daa5d7052",
   "metadata": {},
   "outputs": [],
   "source": [
    "ds = datasets.FashionMNIST(\n",
    "    root = 'data',\n",
    "    train = True,\n",
    "    download = True,\n",
    "    transform = ToTensor(),\n",
    "    target_transform = Lambda(lambda y: torch.zeros(10, dtype=torch.float).scatter_(0, torch.tensor(y), value=1))\n",
    ")"
   ]
  },
  {
   "cell_type": "code",
   "execution_count": 10,
   "id": "ba82ae8f-ddfe-42c5-94ed-1cdef5a45961",
   "metadata": {},
   "outputs": [],
   "source": [
    "from torch import nn"
   ]
  },
  {
   "cell_type": "code",
   "execution_count": 11,
   "id": "358304f0-bf6e-42bc-aa6d-297d6f86357d",
   "metadata": {},
   "outputs": [
    {
     "name": "stdout",
     "output_type": "stream",
     "text": [
      "Use cpu\n"
     ]
    }
   ],
   "source": [
    "device = 'cuda' if torch.cuda.is_available() else 'cpu'\n",
    "print(f'Use {device}')"
   ]
  },
  {
   "cell_type": "code",
   "execution_count": 12,
   "id": "c47cefd3-5bb0-49fb-a082-3a54a6d508fb",
   "metadata": {},
   "outputs": [],
   "source": [
    "class NetWork(nn.Module):\n",
    "    def __init__(self):\n",
    "        super(NetWork, self).__init__()\n",
    "        self.flatten = nn.Flatten()\n",
    "        self.linear_relu_stack = nn.Sequential(\n",
    "            nn.Linear(28*28, 512),\n",
    "            nn.ReLU(),\n",
    "            nn.Linear(512, 512),\n",
    "            nn.ReLU(),\n",
    "            nn.Linear(512, 10),\n",
    "        )\n",
    "    \n",
    "    def forward(self, x):\n",
    "        x = self.flatten(x)\n",
    "        logits = self.linear_relu_stack(x)\n",
    "        return logits"
   ]
  },
  {
   "cell_type": "code",
   "execution_count": 13,
   "id": "1210391d-b23d-434f-819d-7133c8770ec3",
   "metadata": {},
   "outputs": [
    {
     "name": "stdout",
     "output_type": "stream",
     "text": [
      "NetWork(\n",
      "  (flatten): Flatten(start_dim=1, end_dim=-1)\n",
      "  (linear_relu_stack): Sequential(\n",
      "    (0): Linear(in_features=784, out_features=512, bias=True)\n",
      "    (1): ReLU()\n",
      "    (2): Linear(in_features=512, out_features=512, bias=True)\n",
      "    (3): ReLU()\n",
      "    (4): Linear(in_features=512, out_features=10, bias=True)\n",
      "  )\n",
      ")\n"
     ]
    }
   ],
   "source": [
    "model = NetWork().to(device)\n",
    "print(model)"
   ]
  },
  {
   "cell_type": "code",
   "execution_count": 14,
   "id": "54fb7529-f6af-4bbe-b0a6-6a17ebbb7c19",
   "metadata": {},
   "outputs": [
    {
     "name": "stdout",
     "output_type": "stream",
     "text": [
      "Predicted class: tensor([6])\n"
     ]
    }
   ],
   "source": [
    "X = torch.rand(1, 28, 28, device=device)\n",
    "logits = model(X)\n",
    "pred = nn.Softmax(dim=1)(logits)\n",
    "y_pred = pred.argmax(1)\n",
    "print(f'Predicted class: {y_pred}')"
   ]
  },
  {
   "cell_type": "code",
   "execution_count": 15,
   "id": "91f50516-c88a-40e4-ae7d-1adc540e33f2",
   "metadata": {},
   "outputs": [],
   "source": [
    "learning_rate = 1e-3\n",
    "batch_size = 64"
   ]
  },
  {
   "cell_type": "code",
   "execution_count": 16,
   "id": "3f269a91-2893-486c-9956-ee731c37833e",
   "metadata": {},
   "outputs": [],
   "source": [
    "loss_fn = nn.CrossEntropyLoss()"
   ]
  },
  {
   "cell_type": "code",
   "execution_count": 17,
   "id": "b69890e8-d1c1-45ac-8d57-a68285f8a5b5",
   "metadata": {},
   "outputs": [],
   "source": [
    "optimizer = torch.optim.SGD(model.parameters(), lr=learning_rate)"
   ]
  },
  {
   "cell_type": "code",
   "execution_count": 18,
   "id": "98a9d1a3-94b1-4cab-9107-3268f6763e9e",
   "metadata": {},
   "outputs": [],
   "source": [
    "def train_loop(dataloader, model, loss_fn, optimizer):\n",
    "    size = len(dataloader.dataset)\n",
    "    for batch, (X, y) in enumerate(dataloader):\n",
    "        pred = model(X)\n",
    "        loss = loss_fn(pred, y)\n",
    "        \n",
    "        optimizer.zero_grad()\n",
    "        loss.backward()\n",
    "        optimizer.step()\n",
    "        \n",
    "        if batch % 100 == 0:\n",
    "            loss, current = loss.item(), batch * len(X)\n",
    "            print(f'loss: {loss:>7f} | {current:>5d}/{size:>5d}')\n",
    "\n",
    "def test_loop(dataloader, model, loss_fn):\n",
    "    size = len(dataloader.dataset)\n",
    "    num_batches = len(dataloader)\n",
    "    test_loss, correct = 0, 0\n",
    "    \n",
    "    with torch.no_grad():\n",
    "        for X, y in dataloader:\n",
    "            pred = model(X)\n",
    "            test_loss += loss_fn(pred, y).item()\n",
    "            correct += (pred.argmax(1) == y).type(torch.float).sum().item()\n",
    "            \n",
    "        test_loss /= num_batches\n",
    "        correct /= size\n",
    "        print(f'test error: \\n Accuracy: {100*correct:>0.1f}%, Avg loss: {test_loss:>8f} \\n')"
   ]
  },
  {
   "cell_type": "code",
   "execution_count": 19,
   "id": "d8386566-10ec-4c7f-bb41-0a696835142d",
   "metadata": {},
   "outputs": [
    {
     "name": "stdout",
     "output_type": "stream",
     "text": [
      "Epoch 1\n",
      "---------------------------------\n",
      "loss: 2.291433 |     0/60000\n",
      "loss: 2.288927 |  6400/60000\n",
      "loss: 2.279929 | 12800/60000\n",
      "loss: 2.258233 | 19200/60000\n",
      "loss: 2.247730 | 25600/60000\n",
      "loss: 2.231617 | 32000/60000\n",
      "loss: 2.228833 | 38400/60000\n",
      "loss: 2.204798 | 44800/60000\n",
      "loss: 2.174213 | 51200/60000\n",
      "loss: 2.164961 | 57600/60000\n",
      "test error: \n",
      " Accuracy: 48.1%, Avg loss: 2.150957 \n",
      "\n",
      "Epoch 2\n",
      "---------------------------------\n",
      "loss: 2.149506 |     0/60000\n",
      "loss: 2.129232 |  6400/60000\n",
      "loss: 2.104597 | 12800/60000\n",
      "loss: 2.099527 | 19200/60000\n",
      "loss: 2.043657 | 25600/60000\n",
      "loss: 2.010389 | 32000/60000\n",
      "loss: 1.986776 | 38400/60000\n",
      "loss: 1.929208 | 44800/60000\n",
      "loss: 1.931684 | 51200/60000\n",
      "loss: 1.921016 | 57600/60000\n",
      "test error: \n",
      " Accuracy: 59.6%, Avg loss: 1.880713 \n",
      "\n",
      "Epoch 3\n",
      "---------------------------------\n",
      "loss: 1.860368 |     0/60000\n",
      "loss: 1.851908 |  6400/60000\n",
      "loss: 1.823517 | 12800/60000\n",
      "loss: 1.734463 | 19200/60000\n",
      "loss: 1.733403 | 25600/60000\n",
      "loss: 1.641985 | 32000/60000\n",
      "loss: 1.727032 | 38400/60000\n",
      "loss: 1.567981 | 44800/60000\n",
      "loss: 1.554268 | 51200/60000\n",
      "loss: 1.510514 | 57600/60000\n",
      "test error: \n",
      " Accuracy: 62.7%, Avg loss: 1.504929 \n",
      "\n",
      "Epoch 4\n",
      "---------------------------------\n",
      "loss: 1.527721 |     0/60000\n",
      "loss: 1.433323 |  6400/60000\n",
      "loss: 1.496273 | 12800/60000\n",
      "loss: 1.437757 | 19200/60000\n",
      "loss: 1.346442 | 25600/60000\n",
      "loss: 1.285813 | 32000/60000\n",
      "loss: 1.295634 | 38400/60000\n",
      "loss: 1.398638 | 44800/60000\n",
      "loss: 1.229540 | 51200/60000\n",
      "loss: 1.180107 | 57600/60000\n",
      "test error: \n",
      " Accuracy: 63.6%, Avg loss: 1.241409 \n",
      "\n",
      "Epoch 5\n",
      "---------------------------------\n",
      "loss: 1.303800 |     0/60000\n",
      "loss: 1.279588 |  6400/60000\n",
      "loss: 1.168141 | 12800/60000\n",
      "loss: 1.047238 | 19200/60000\n",
      "loss: 1.013084 | 25600/60000\n",
      "loss: 1.117738 | 32000/60000\n",
      "loss: 1.180758 | 38400/60000\n",
      "loss: 1.088095 | 44800/60000\n",
      "loss: 1.165421 | 51200/60000\n",
      "loss: 1.136899 | 57600/60000\n",
      "test error: \n",
      " Accuracy: 64.4%, Avg loss: 1.082643 \n",
      "\n",
      "Epoch 6\n",
      "---------------------------------\n",
      "loss: 1.042105 |     0/60000\n",
      "loss: 1.203559 |  6400/60000\n",
      "loss: 1.075567 | 12800/60000\n",
      "loss: 1.101552 | 19200/60000\n",
      "loss: 0.929509 | 25600/60000\n",
      "loss: 0.959582 | 32000/60000\n",
      "loss: 1.032953 | 38400/60000\n",
      "loss: 1.025007 | 44800/60000\n",
      "loss: 0.973697 | 51200/60000\n",
      "loss: 0.994900 | 57600/60000\n",
      "test error: \n",
      " Accuracy: 65.3%, Avg loss: 0.982570 \n",
      "\n",
      "Epoch 7\n",
      "---------------------------------\n",
      "loss: 1.065257 |     0/60000\n",
      "loss: 0.854098 |  6400/60000\n",
      "loss: 0.955961 | 12800/60000\n",
      "loss: 1.029611 | 19200/60000\n",
      "loss: 0.953649 | 25600/60000\n",
      "loss: 0.899461 | 32000/60000\n",
      "loss: 0.918702 | 38400/60000\n",
      "loss: 0.900099 | 44800/60000\n",
      "loss: 0.853408 | 51200/60000\n",
      "loss: 1.183209 | 57600/60000\n",
      "test error: \n",
      " Accuracy: 67.0%, Avg loss: 0.912910 \n",
      "\n",
      "Epoch 8\n",
      "---------------------------------\n",
      "loss: 0.707044 |     0/60000\n",
      "loss: 1.071140 |  6400/60000\n",
      "loss: 0.837711 | 12800/60000\n",
      "loss: 1.001133 | 19200/60000\n",
      "loss: 0.993815 | 25600/60000\n",
      "loss: 0.880954 | 32000/60000\n",
      "loss: 0.928446 | 38400/60000\n",
      "loss: 0.841386 | 44800/60000\n",
      "loss: 0.897498 | 51200/60000\n",
      "loss: 0.809764 | 57600/60000\n",
      "test error: \n",
      " Accuracy: 68.0%, Avg loss: 0.860689 \n",
      "\n",
      "Epoch 9\n",
      "---------------------------------\n",
      "loss: 1.093331 |     0/60000\n",
      "loss: 0.732959 |  6400/60000\n",
      "loss: 0.817393 | 12800/60000\n",
      "loss: 0.830637 | 19200/60000\n",
      "loss: 0.739382 | 25600/60000\n",
      "loss: 0.881553 | 32000/60000\n",
      "loss: 0.802821 | 38400/60000\n",
      "loss: 1.001651 | 44800/60000\n",
      "loss: 0.739810 | 51200/60000\n",
      "loss: 0.811407 | 57600/60000\n",
      "test error: \n",
      " Accuracy: 69.8%, Avg loss: 0.823198 \n",
      "\n",
      "Epoch 10\n",
      "---------------------------------\n",
      "loss: 0.767323 |     0/60000\n",
      "loss: 0.802940 |  6400/60000\n",
      "loss: 0.844619 | 12800/60000\n",
      "loss: 0.761668 | 19200/60000\n",
      "loss: 0.746043 | 25600/60000\n",
      "loss: 0.927002 | 32000/60000\n",
      "loss: 0.705147 | 38400/60000\n",
      "loss: 0.785588 | 44800/60000\n",
      "loss: 0.766480 | 51200/60000\n",
      "loss: 0.651861 | 57600/60000\n",
      "test error: \n",
      " Accuracy: 70.7%, Avg loss: 0.790228 \n",
      "\n",
      "Done\n"
     ]
    }
   ],
   "source": [
    "epochs = 10\n",
    "for t in range(epochs):\n",
    "    print(f'Epoch {t+1}\\n---------------------------------')\n",
    "    train_loop(train_dataloader, model, loss_fn, optimizer)\n",
    "    test_loop(test_dataloader, model, loss_fn)\n",
    "print('Done')"
   ]
  },
  {
   "cell_type": "code",
   "execution_count": 20,
   "id": "241685a8-d7ec-47e7-9abd-36d5f9c18cea",
   "metadata": {},
   "outputs": [
    {
     "data": {
      "text/plain": [
       "NetWork(\n",
       "  (flatten): Flatten(start_dim=1, end_dim=-1)\n",
       "  (linear_relu_stack): Sequential(\n",
       "    (0): Linear(in_features=784, out_features=512, bias=True)\n",
       "    (1): ReLU()\n",
       "    (2): Linear(in_features=512, out_features=512, bias=True)\n",
       "    (3): ReLU()\n",
       "    (4): Linear(in_features=512, out_features=10, bias=True)\n",
       "  )\n",
       ")"
      ]
     },
     "execution_count": 20,
     "metadata": {},
     "output_type": "execute_result"
    }
   ],
   "source": [
    "model.eval()"
   ]
  },
  {
   "cell_type": "code",
   "execution_count": 21,
   "id": "7040776c-69b8-4335-8bf2-ba74fe17ef96",
   "metadata": {},
   "outputs": [
    {
     "name": "stdout",
     "output_type": "stream",
     "text": [
      "Prediction: Trouser | Real label: T-Shirt\n",
      "Prediction: T-Shirt | Real label: Dress\n",
      "Prediction: Dress | Real label: T-Shirt\n",
      "Prediction: Pullover | Real label: Pullover\n",
      "Prediction: Sneaker | Real label: Sneaker\n",
      "Prediction: Pullover | Real label: Pullover\n",
      "Prediction: Ankle Boot | Real label: Sandal\n",
      "Prediction: Ankle Boot | Real label: Sandal\n",
      "Prediction: T-Shirt | Real label: T-Shirt\n",
      "Prediction: Ankle Boot | Real label: Ankle Boot\n",
      "Prediction: Sandal | Real label: Sandal\n",
      "Prediction: Sneaker | Real label: Sandal\n",
      "Prediction: Sneaker | Real label: Sneaker\n",
      "Prediction: Ankle Boot | Real label: Ankle Boot\n",
      "Prediction: Trouser | Real label: Trouser\n",
      "Prediction: T-Shirt | Real label: T-Shirt\n",
      "Prediction: Pullover | Real label: Shirt\n",
      "Prediction: Coat | Real label: Coat\n",
      "Prediction: Dress | Real label: Dress\n",
      "Prediction: Trouser | Real label: Trouser\n",
      "Prediction: Coat | Real label: Coat\n",
      "Prediction: Bag | Real label: Bag\n",
      "Prediction: Coat | Real label: Coat\n",
      "Prediction: Dress | Real label: Dress\n",
      "Prediction: T-Shirt | Real label: T-Shirt\n",
      "Prediction: Pullover | Real label: Pullover\n",
      "Prediction: Coat | Real label: Coat\n",
      "Prediction: Coat | Real label: Coat\n",
      "Prediction: Sneaker | Real label: Sandal\n",
      "Prediction: Dress | Real label: Dress\n",
      "Prediction: Shirt | Real label: Shirt\n",
      "Prediction: Coat | Real label: Shirt\n",
      "Prediction: T-Shirt | Real label: T-Shirt\n",
      "Prediction: Bag | Real label: Bag\n",
      "Prediction: Bag | Real label: Sandal\n",
      "Prediction: Pullover | Real label: Pullover\n",
      "Prediction: Trouser | Real label: Trouser\n",
      "Prediction: Coat | Real label: Shirt\n",
      "Prediction: Shirt | Real label: Shirt\n",
      "Prediction: Sneaker | Real label: Sneaker\n",
      "Prediction: Ankle Boot | Real label: Ankle Boot\n",
      "73.17%\n"
     ]
    }
   ],
   "source": [
    "T, F = 0, 0\n",
    "for i in range(2, 43):\n",
    "    pred = model(training_data[i][0])\n",
    "    y_pred = int(pred.argmax(1)[0])\n",
    "    print(f'Prediction: {labels_map[y_pred]} | Real label: {labels_map[training_data[i][1]]}')\n",
    "    if labels_map[y_pred] == labels_map[training_data[i][1]]:\n",
    "        T += 1\n",
    "    else:\n",
    "        F += 1\n",
    "print(str(round(T / (T+F) * 100, 2)) + '%')"
   ]
  }
 ],
 "metadata": {
  "kernelspec": {
   "display_name": "Python 3 (ipykernel)",
   "language": "python",
   "name": "python3"
  },
  "language_info": {
   "codemirror_mode": {
    "name": "ipython",
    "version": 3
   },
   "file_extension": ".py",
   "mimetype": "text/x-python",
   "name": "python",
   "nbconvert_exporter": "python",
   "pygments_lexer": "ipython3",
   "version": "3.9.12"
  }
 },
 "nbformat": 4,
 "nbformat_minor": 5
}
